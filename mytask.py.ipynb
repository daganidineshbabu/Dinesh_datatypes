{
 "cells": [
  {
   "cell_type": "code",
   "execution_count": 2,
   "id": "34dc729b",
   "metadata": {},
   "outputs": [
    {
     "name": "stdout",
     "output_type": "stream",
     "text": [
      "this is my name dagani dinesh babu\n"
     ]
    }
   ],
   "source": [
    "name = \"dagani dinesh babu\"\n",
    "print (\"this is my name\",name)"
   ]
  },
  {
   "cell_type": "code",
   "execution_count": 3,
   "id": "32905e9e",
   "metadata": {},
   "outputs": [
    {
     "name": "stdout",
     "output_type": "stream",
     "text": [
      "name is dhanalakshmi,mahesh babu,prakash babu,tushar\n"
     ]
    }
   ],
   "source": [
    "name = \"dhanalakshmi,mahesh babu,prakash babu,tushar\"\n",
    "print (\"name is\",name)"
   ]
  },
  {
   "cell_type": "code",
   "execution_count": null,
   "id": "d5026cee",
   "metadata": {},
   "outputs": [],
   "source": [
    "dictt = {\"family-member\":[\"joseph\",\"relation\":\"father\"]}"
   ]
  },
  {
   "cell_type": "code",
   "execution_count": null,
   "id": "a5c03589",
   "metadata": {},
   "outputs": [],
   "source": [
    "dictt = {\"family-member\":\"mahesh babu\",\"relation\":\"elder brother\"]}"
   ]
  },
  {
   "cell_type": "code",
   "execution_count": null,
   "id": "11f97474",
   "metadata": {},
   "outputs": [],
   "source": [
    "dictt = {\"family-member\":[\"prakash babu\",\"relation\":\"younger brother\"]}"
   ]
  },
  {
   "cell_type": "code",
   "execution_count": null,
   "id": "8703ce5a",
   "metadata": {},
   "outputs": [],
   "source": [
    "dictt ={\"family-member\":[\"tushar\"\",relation\",:\"brother son\"]}"
   ]
  },
  {
   "cell_type": "code",
   "execution_count": null,
   "id": "945269aa",
   "metadata": {},
   "outputs": [],
   "source": [
    "{\"key\": \"keyvale\",\"key\": [keyvalues]}"
   ]
  },
  {
   "cell_type": "code",
   "execution_count": null,
   "id": "e9a926f6",
   "metadata": {},
   "outputs": [],
   "source": [
    "dictt = {\"family-member\":[\"mahesh babu\",\"adsf\",\"adfad\"],\"relation\":[\"elder brother\",\"\",\"\"]}"
   ]
  }
 ],
 "metadata": {
  "kernelspec": {
   "display_name": "Python 3 (ipykernel)",
   "language": "python",
   "name": "python3"
  },
  "language_info": {
   "codemirror_mode": {
    "name": "ipython",
    "version": 3
   },
   "file_extension": ".py",
   "mimetype": "text/x-python",
   "name": "python",
   "nbconvert_exporter": "python",
   "pygments_lexer": "ipython3",
   "version": "3.10.9"
  }
 },
 "nbformat": 4,
 "nbformat_minor": 5
}
